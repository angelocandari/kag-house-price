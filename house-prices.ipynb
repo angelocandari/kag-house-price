{
 "cells": [
  {
   "cell_type": "markdown",
   "id": "1bb35bd9",
   "metadata": {},
   "source": [
    "# ReadMe\n",
    "There are only 2 things you can do to improve your score  \n",
    "Get better Features and  \n",
    "Selecting and tuning your model  \n",
    "You only have 2 types of features - numeric and categorical  \n",
    "Go through each one. one by one.  \n",
    "methodically explore and exhaust all possibilities  \n",
    "With regards to your model,  \n",
    "start with the basics. RandomForest, LinearRegression  \n",
    "Keep doing them until you hit a wall  \n",
    "Until you fully maxed out all their power  \n",
    "Then you start exploring other models  \n",
    "Other ways of fine tuning  \n",
    "This is all that you need to do to progress  \n",
    "Don't aim to improve your score  \n",
    "It is just a by-product.  \n",
    "Your goal is to improve your process  \n",
    "It is to love the process.  \n",
    "Fall in love with going through each feature  \n",
    "combining them to create new features  \n",
    "Embrace boredom.  \n",
    "Fight the urge to browse the internet.  \n",
    "You will not find answers there.  \n",
    "The pain you feel is your brain adding new room  \n",
    "for this new skill.  \n",
    "Be fully aware of it.  \n",
    "It is like the muscle when you go to the gym.  \n",
    "  \n",
    "It is like micheal in netflix.  \n",
    "understand your craft and build and work on it every day.  \n",
    "Mike was not competiting with other players.  \n",
    "He was competiting with himself.  \n",
    "He already figured out how to hack the game.  \n",
    "He is just letting others play with him.  \n",
    "  \n",
    "After all of it,  \n",
    "Your mind is your ultimate repository.  \n",
    "build that and you gain the most valuable super power.  \n",
    "Intiution.\n",
    "\n",
    "\n",
    "\n",
    "\n",
    "\n",
    "\n",
    "\n",
    "\n",
    "\n",
    "\n",
    "\n",
    "\n"
   ]
  },
  {
   "cell_type": "markdown",
   "id": "56171dde",
   "metadata": {
    "papermill": {
     "duration": 0.009651,
     "end_time": "2023-07-19T00:28:23.383273",
     "exception": false,
     "start_time": "2023-07-19T00:28:23.373622",
     "status": "completed"
    },
    "tags": []
   },
   "source": [
    "# Load Data"
   ]
  },
  {
   "cell_type": "code",
   "execution_count": 16,
   "id": "c31a4c9e",
   "metadata": {
    "execution": {
     "iopub.execute_input": "2023-07-19T00:28:23.400482Z",
     "iopub.status.busy": "2023-07-19T00:28:23.399666Z",
     "iopub.status.idle": "2023-07-19T00:28:24.864814Z",
     "shell.execute_reply": "2023-07-19T00:28:24.863715Z"
    },
    "papermill": {
     "duration": 1.4765,
     "end_time": "2023-07-19T00:28:24.867139",
     "exception": false,
     "start_time": "2023-07-19T00:28:23.390639",
     "status": "completed"
    },
    "tags": []
   },
   "outputs": [
    {
     "data": {
      "text/plain": [
       "Index(['Id', 'MSSubClass', 'MSZoning', 'LotFrontage', 'LotArea', 'Street',\n",
       "       'Alley', 'LotShape', 'LandContour', 'Utilities', 'LotConfig',\n",
       "       'LandSlope', 'Neighborhood', 'Condition1', 'Condition2', 'BldgType',\n",
       "       'HouseStyle', 'OverallQual', 'OverallCond', 'YearBuilt', 'YearRemodAdd',\n",
       "       'RoofStyle', 'RoofMatl', 'Exterior1st', 'Exterior2nd', 'MasVnrType',\n",
       "       'MasVnrArea', 'ExterQual', 'ExterCond', 'Foundation', 'BsmtQual',\n",
       "       'BsmtCond', 'BsmtExposure', 'BsmtFinType1', 'BsmtFinSF1',\n",
       "       'BsmtFinType2', 'BsmtFinSF2', 'BsmtUnfSF', 'TotalBsmtSF', 'Heating',\n",
       "       'HeatingQC', 'CentralAir', 'Electrical', '1stFlrSF', '2ndFlrSF',\n",
       "       'LowQualFinSF', 'GrLivArea', 'BsmtFullBath', 'BsmtHalfBath', 'FullBath',\n",
       "       'HalfBath', 'BedroomAbvGr', 'KitchenAbvGr', 'KitchenQual',\n",
       "       'TotRmsAbvGrd', 'Functional', 'Fireplaces', 'FireplaceQu', 'GarageType',\n",
       "       'GarageYrBlt', 'GarageFinish', 'GarageCars', 'GarageArea', 'GarageQual',\n",
       "       'GarageCond', 'PavedDrive', 'WoodDeckSF', 'OpenPorchSF',\n",
       "       'EnclosedPorch', '3SsnPorch', 'ScreenPorch', 'PoolArea', 'PoolQC',\n",
       "       'Fence', 'MiscFeature', 'MiscVal', 'MoSold', 'YrSold', 'SaleType',\n",
       "       'SaleCondition', 'SalePrice'],\n",
       "      dtype='object')"
      ]
     },
     "execution_count": 16,
     "metadata": {},
     "output_type": "execute_result"
    }
   ],
   "source": [
    "import pandas as pd, numpy as np, seaborn as sns\n",
    "\n",
    "df = pd.read_csv('../input/house-prices-advanced-regression-techniques/train.csv')\n",
    "df.keys()"
   ]
  },
  {
   "cell_type": "code",
   "execution_count": 17,
   "id": "41a92887",
   "metadata": {
    "execution": {
     "iopub.execute_input": "2023-07-19T00:28:24.883872Z",
     "iopub.status.busy": "2023-07-19T00:28:24.883493Z",
     "iopub.status.idle": "2023-07-19T00:28:24.905738Z",
     "shell.execute_reply": "2023-07-19T00:28:24.904952Z"
    },
    "papermill": {
     "duration": 0.033089,
     "end_time": "2023-07-19T00:28:24.907752",
     "exception": false,
     "start_time": "2023-07-19T00:28:24.874663",
     "status": "completed"
    },
    "tags": []
   },
   "outputs": [
    {
     "data": {
      "text/plain": [
       "object     43\n",
       "int64      34\n",
       "float64     3\n",
       "Name: count, dtype: int64"
      ]
     },
     "execution_count": 17,
     "metadata": {},
     "output_type": "execute_result"
    }
   ],
   "source": [
    "df.drop(columns=['Id'], inplace=True)\n",
    "\n",
    "df.dtypes.value_counts()"
   ]
  },
  {
   "cell_type": "code",
   "execution_count": 18,
   "id": "44f0de22",
   "metadata": {
    "execution": {
     "iopub.execute_input": "2023-07-19T00:28:24.924608Z",
     "iopub.status.busy": "2023-07-19T00:28:24.924224Z",
     "iopub.status.idle": "2023-07-19T00:28:24.94095Z",
     "shell.execute_reply": "2023-07-19T00:28:24.940052Z"
    },
    "papermill": {
     "duration": 0.027575,
     "end_time": "2023-07-19T00:28:24.943013",
     "exception": false,
     "start_time": "2023-07-19T00:28:24.915438",
     "status": "completed"
    },
    "tags": []
   },
   "outputs": [],
   "source": [
    "num = [x for x in df.columns if df.dtypes[x] in ('int64', 'float')]\n",
    "cat = [x for x in df.columns if df.dtypes[x] == 'object']\n",
    "target = 'SalePrice'\n",
    "num.remove(target)"
   ]
  },
  {
   "cell_type": "code",
   "execution_count": 19,
   "id": "b045c096",
   "metadata": {
    "execution": {
     "iopub.execute_input": "2023-07-19T00:28:24.959825Z",
     "iopub.status.busy": "2023-07-19T00:28:24.959466Z",
     "iopub.status.idle": "2023-07-19T00:28:25.220896Z",
     "shell.execute_reply": "2023-07-19T00:28:25.219976Z"
    },
    "papermill": {
     "duration": 0.272691,
     "end_time": "2023-07-19T00:28:25.22338",
     "exception": false,
     "start_time": "2023-07-19T00:28:24.950689",
     "status": "completed"
    },
    "tags": []
   },
   "outputs": [],
   "source": [
    "from sklearn.model_selection import train_test_split\n",
    "train, test = train_test_split(df, test_size=.2, random_state=0)"
   ]
  },
  {
   "cell_type": "markdown",
   "id": "98beafd5",
   "metadata": {
    "papermill": {
     "duration": 0.007211,
     "end_time": "2023-07-19T00:28:25.238311",
     "exception": false,
     "start_time": "2023-07-19T00:28:25.2311",
     "status": "completed"
    },
    "tags": []
   },
   "source": [
    "# Explore"
   ]
  },
  {
   "cell_type": "code",
   "execution_count": 20,
   "id": "d19961e8",
   "metadata": {},
   "outputs": [],
   "source": [
    "train['YearBuiltRemodel'] = train['YearBuilt'] * train['YearRemodAdd']\n",
    "train['GarageCarArea'] = train['GarageArea'] * train['GarageCars']"
   ]
  },
  {
   "cell_type": "code",
   "execution_count": 21,
   "id": "e6277a49",
   "metadata": {},
   "outputs": [
    {
     "data": {
      "text/plain": [
       "SalePrice           1.000000\n",
       "OverallQual         0.790636\n",
       "GrLivArea           0.721707\n",
       "GarageCarArea       0.698275\n",
       "GarageCars          0.660927\n",
       "GarageArea          0.646603\n",
       "TotalBsmtSF         0.635535\n",
       "1stFlrSF            0.620740\n",
       "YearBuiltRemodel    0.579258\n",
       "FullBath            0.578134\n",
       "TotRmsAbvGrd        0.542658\n",
       "YearBuilt           0.521242\n",
       "YearRemodAdd        0.517822\n",
       "GarageYrBlt         0.494154\n",
       "MasVnrArea          0.493482\n",
       "Fireplaces          0.470320\n",
       "BsmtFinSF1          0.401390\n",
       "LotFrontage         0.360274\n",
       "OpenPorchSF         0.320193\n",
       "2ndFlrSF            0.320141\n",
       "WoodDeckSF          0.311813\n",
       "HalfBath            0.283762\n",
       "LotArea             0.252766\n",
       "BsmtFullBath        0.226432\n",
       "BsmtUnfSF           0.206736\n",
       "BedroomAbvGr        0.182258\n",
       "ScreenPorch         0.096740\n",
       "3SsnPorch           0.057561\n",
       "MoSold              0.041369\n",
       "PoolArea            0.027441\n",
       "BsmtHalfBath       -0.010994\n",
       "BsmtFinSF2         -0.020622\n",
       "LowQualFinSF       -0.023128\n",
       "MiscVal            -0.024750\n",
       "YrSold             -0.045628\n",
       "OverallCond        -0.053643\n",
       "MSSubClass         -0.084312\n",
       "EnclosedPorch      -0.129519\n",
       "KitchenAbvGr       -0.136104\n",
       "Name: SalePrice, dtype: float64"
      ]
     },
     "execution_count": 21,
     "metadata": {},
     "output_type": "execute_result"
    }
   ],
   "source": [
    "train.corr(numeric_only=True)[target].sort_values(ascending=False)"
   ]
  },
  {
   "cell_type": "code",
   "execution_count": 22,
   "id": "bbf9fab0",
   "metadata": {},
   "outputs": [
    {
     "data": {
      "text/html": [
       "<div>\n",
       "<style scoped>\n",
       "    .dataframe tbody tr th:only-of-type {\n",
       "        vertical-align: middle;\n",
       "    }\n",
       "\n",
       "    .dataframe tbody tr th {\n",
       "        vertical-align: top;\n",
       "    }\n",
       "\n",
       "    .dataframe thead th {\n",
       "        text-align: right;\n",
       "    }\n",
       "</style>\n",
       "<table border=\"1\" class=\"dataframe\">\n",
       "  <thead>\n",
       "    <tr style=\"text-align: right;\">\n",
       "      <th></th>\n",
       "      <th>GarageCars</th>\n",
       "      <th>GarageArea</th>\n",
       "      <th>GarageCarArea</th>\n",
       "    </tr>\n",
       "  </thead>\n",
       "  <tbody>\n",
       "    <tr>\n",
       "      <th>618</th>\n",
       "      <td>3</td>\n",
       "      <td>774</td>\n",
       "      <td>2322</td>\n",
       "    </tr>\n",
       "    <tr>\n",
       "      <th>870</th>\n",
       "      <td>1</td>\n",
       "      <td>308</td>\n",
       "      <td>308</td>\n",
       "    </tr>\n",
       "    <tr>\n",
       "      <th>92</th>\n",
       "      <td>2</td>\n",
       "      <td>432</td>\n",
       "      <td>864</td>\n",
       "    </tr>\n",
       "    <tr>\n",
       "      <th>817</th>\n",
       "      <td>3</td>\n",
       "      <td>857</td>\n",
       "      <td>2571</td>\n",
       "    </tr>\n",
       "    <tr>\n",
       "      <th>302</th>\n",
       "      <td>3</td>\n",
       "      <td>843</td>\n",
       "      <td>2529</td>\n",
       "    </tr>\n",
       "    <tr>\n",
       "      <th>...</th>\n",
       "      <td>...</td>\n",
       "      <td>...</td>\n",
       "      <td>...</td>\n",
       "    </tr>\n",
       "    <tr>\n",
       "      <th>763</th>\n",
       "      <td>3</td>\n",
       "      <td>856</td>\n",
       "      <td>2568</td>\n",
       "    </tr>\n",
       "    <tr>\n",
       "      <th>835</th>\n",
       "      <td>2</td>\n",
       "      <td>436</td>\n",
       "      <td>872</td>\n",
       "    </tr>\n",
       "    <tr>\n",
       "      <th>1216</th>\n",
       "      <td>2</td>\n",
       "      <td>539</td>\n",
       "      <td>1078</td>\n",
       "    </tr>\n",
       "    <tr>\n",
       "      <th>559</th>\n",
       "      <td>2</td>\n",
       "      <td>420</td>\n",
       "      <td>840</td>\n",
       "    </tr>\n",
       "    <tr>\n",
       "      <th>684</th>\n",
       "      <td>2</td>\n",
       "      <td>486</td>\n",
       "      <td>972</td>\n",
       "    </tr>\n",
       "  </tbody>\n",
       "</table>\n",
       "<p>1168 rows × 3 columns</p>\n",
       "</div>"
      ],
      "text/plain": [
       "      GarageCars  GarageArea  GarageCarArea\n",
       "618            3         774           2322\n",
       "870            1         308            308\n",
       "92             2         432            864\n",
       "817            3         857           2571\n",
       "302            3         843           2529\n",
       "...          ...         ...            ...\n",
       "763            3         856           2568\n",
       "835            2         436            872\n",
       "1216           2         539           1078\n",
       "559            2         420            840\n",
       "684            2         486            972\n",
       "\n",
       "[1168 rows x 3 columns]"
      ]
     },
     "execution_count": 22,
     "metadata": {},
     "output_type": "execute_result"
    }
   ],
   "source": [
    "train[['GarageCars', 'GarageArea', 'GarageCarArea']]"
   ]
  },
  {
   "cell_type": "code",
   "execution_count": 23,
   "id": "d49de1ea",
   "metadata": {},
   "outputs": [
    {
     "data": {
      "image/png": "[encoded data removed]",
      "text/plain": [
       "<Figure size 800x600 with 4 Axes>"
      ]
     },
     "metadata": {},
     "output_type": "display_data"
    }
   ],
   "source": [
    "import matplotlib.pyplot as plt\n",
    "fig, ax = plt.subplots(2, 2)\n",
    "sns.regplot(train, x='GarageArea', y=target, ax=ax[0, 0]);\n",
    "sns.regplot(train, x='GarageCars', y=target, ax=ax[0, 1]);\n",
    "sns.regplot(train, x='GarageCarArea', y=target, ax=ax[1, 0]);"
   ]
  },
  {
   "cell_type": "code",
   "execution_count": 24,
   "id": "e0e49ef5",
   "metadata": {},
   "outputs": [
    {
     "data": {
      "text/plain": [
       "SalePrice           1.000000\n",
       "OverallQual         0.790636\n",
       "GrLivArea           0.721707\n",
       "GarageCarArea       0.698275\n",
       "GarageCars          0.660927\n",
       "GarageArea          0.646603\n",
       "TotalBsmtSF         0.635535\n",
       "1stFlrSF            0.620740\n",
       "YearBuiltRemodel    0.579258\n",
       "FullBath            0.578134\n",
       "TotRmsAbvGrd        0.542658\n",
       "YearBuilt           0.521242\n",
       "YearRemodAdd        0.517822\n",
       "GarageYrBlt         0.494154\n",
       "MasVnrArea          0.493482\n",
       "Fireplaces          0.470320\n",
       "BsmtFinSF1          0.401390\n",
       "LotFrontage         0.360274\n",
       "OpenPorchSF         0.320193\n",
       "2ndFlrSF            0.320141\n",
       "WoodDeckSF          0.311813\n",
       "HalfBath            0.283762\n",
       "LotArea             0.252766\n",
       "BsmtFullBath        0.226432\n",
       "BsmtUnfSF           0.206736\n",
       "BedroomAbvGr        0.182258\n",
       "ScreenPorch         0.096740\n",
       "3SsnPorch           0.057561\n",
       "MoSold              0.041369\n",
       "PoolArea            0.027441\n",
       "BsmtHalfBath       -0.010994\n",
       "BsmtFinSF2         -0.020622\n",
       "LowQualFinSF       -0.023128\n",
       "MiscVal            -0.024750\n",
       "YrSold             -0.045628\n",
       "OverallCond        -0.053643\n",
       "MSSubClass         -0.084312\n",
       "EnclosedPorch      -0.129519\n",
       "KitchenAbvGr       -0.136104\n",
       "Name: SalePrice, dtype: float64"
      ]
     },
     "execution_count": 24,
     "metadata": {},
     "output_type": "execute_result"
    }
   ],
   "source": [
    "train.corr(numeric_only=True)[target].sort_values(ascending=False)"
   ]
  },
  {
   "cell_type": "markdown",
   "id": "1fc0a8e4",
   "metadata": {
    "papermill": {
     "duration": 0.014931,
     "end_time": "2023-07-19T00:28:38.032198",
     "exception": false,
     "start_time": "2023-07-19T00:28:38.017267",
     "status": "completed"
    },
    "tags": []
   },
   "source": [
    "# Pipeline"
   ]
  },
  {
   "cell_type": "code",
   "execution_count": 25,
   "id": "5065b5ad",
   "metadata": {
    "execution": {
     "iopub.execute_input": "2023-07-19T00:28:38.064228Z",
     "iopub.status.busy": "2023-07-19T00:28:38.063817Z",
     "iopub.status.idle": "2023-07-19T00:28:38.3042Z",
     "shell.execute_reply": "2023-07-19T00:28:38.302825Z"
    },
    "papermill": {
     "duration": 0.259657,
     "end_time": "2023-07-19T00:28:38.306986",
     "exception": false,
     "start_time": "2023-07-19T00:28:38.047329",
     "status": "completed"
    },
    "tags": []
   },
   "outputs": [],
   "source": [
    "from sklearn.pipeline import Pipeline, FeatureUnion\n",
    "from sklearn.impute import SimpleImputer\n",
    "from sklearn.preprocessing import OneHotEncoder, StandardScaler"
   ]
  },
  {
   "cell_type": "code",
   "execution_count": 26,
   "id": "3e152dac",
   "metadata": {
    "execution": {
     "iopub.execute_input": "2023-07-19T00:28:38.339328Z",
     "iopub.status.busy": "2023-07-19T00:28:38.3386Z",
     "iopub.status.idle": "2023-07-19T00:28:38.344885Z",
     "shell.execute_reply": "2023-07-19T00:28:38.344137Z"
    },
    "papermill": {
     "duration": 0.024484,
     "end_time": "2023-07-19T00:28:38.346812",
     "exception": false,
     "start_time": "2023-07-19T00:28:38.322328",
     "status": "completed"
    },
    "tags": []
   },
   "outputs": [],
   "source": [
    "from sklearn.base import BaseEstimator, TransformerMixin\n",
    "class DataSelect(BaseEstimator, TransformerMixin):\n",
    "    def __init__(self, attributes):\n",
    "        self.attributes = attributes\n",
    "    def fit(self, X, y=None):\n",
    "        return self\n",
    "    def transform(self, X, y=None):\n",
    "        return X[self.attributes]"
   ]
  },
  {
   "cell_type": "code",
   "execution_count": 28,
   "id": "d7fa5388",
   "metadata": {},
   "outputs": [],
   "source": [
    "class Engineer(BaseEstimator, TransformerMixin):\n",
    "    def __init__(self):\n",
    "        self\n",
    "    def fit(self, X, y=None):\n",
    "        return self\n",
    "    def transform(self, X, y=None):\n",
    "        X.loc[:, ['YearBuiltRemodel']] = X['YearBuilt'] * X['YearRemodAdd']\n",
    "        X.loc[:, ['GarageCarArea']] = X['GarageArea'] * X['GarageCars']\n",
    "        return X"
   ]
  },
  {
   "cell_type": "code",
   "execution_count": 29,
   "id": "39c9092a",
   "metadata": {
    "execution": {
     "iopub.execute_input": "2023-07-19T00:28:38.379552Z",
     "iopub.status.busy": "2023-07-19T00:28:38.379125Z",
     "iopub.status.idle": "2023-07-19T00:28:38.406131Z",
     "shell.execute_reply": "2023-07-19T00:28:38.404908Z"
    },
    "papermill": {
     "duration": 0.046796,
     "end_time": "2023-07-19T00:28:38.408819",
     "exception": false,
     "start_time": "2023-07-19T00:28:38.362023",
     "status": "completed"
    },
    "tags": []
   },
   "outputs": [],
   "source": [
    "num_pp = Pipeline([\n",
    "    ('dataselect', DataSelect(num))\n",
    "    , ('engineer', Engineer())\n",
    "    , ('impute', SimpleImputer(strategy='median'))\n",
    "    , ('scaler', StandardScaler())\n",
    "])\n",
    "\n",
    "cat_pp = Pipeline([\n",
    "    ('dataselect', DataSelect(cat))\n",
    "    , ('encoder', OneHotEncoder(sparse_output=False))\n",
    "])\n",
    "\n",
    "pipe = FeatureUnion([\n",
    "    ('numeric', num_pp)\n",
    "])\n",
    "\n",
    "pipe.fit(train)\n",
    "train_pre = pipe.transform(train)\n",
    "test_pre = pipe.transform(test)"
   ]
  },
  {
   "cell_type": "markdown",
   "id": "9ee9ef6d",
   "metadata": {
    "papermill": {
     "duration": 0.01786,
     "end_time": "2023-07-19T00:28:38.444988",
     "exception": false,
     "start_time": "2023-07-19T00:28:38.427128",
     "status": "completed"
    },
    "tags": []
   },
   "source": [
    "# Model Selection"
   ]
  },
  {
   "cell_type": "code",
   "execution_count": 30,
   "id": "1f6b670e",
   "metadata": {
    "execution": {
     "iopub.execute_input": "2023-07-19T00:28:38.487216Z",
     "iopub.status.busy": "2023-07-19T00:28:38.48627Z",
     "iopub.status.idle": "2023-07-19T00:28:38.649571Z",
     "shell.execute_reply": "2023-07-19T00:28:38.648388Z"
    },
    "papermill": {
     "duration": 0.185826,
     "end_time": "2023-07-19T00:28:38.652542",
     "exception": false,
     "start_time": "2023-07-19T00:28:38.466716",
     "status": "completed"
    },
    "tags": []
   },
   "outputs": [],
   "source": [
    "from sklearn.model_selection import cross_val_score\n",
    "from sklearn.linear_model import LinearRegression\n",
    "from sklearn.tree import DecisionTreeRegressor\n",
    "from sklearn.ensemble import RandomForestRegressor"
   ]
  },
  {
   "cell_type": "code",
   "execution_count": 31,
   "id": "dbee8a7f",
   "metadata": {
    "execution": {
     "iopub.execute_input": "2023-07-19T00:28:38.685806Z",
     "iopub.status.busy": "2023-07-19T00:28:38.685395Z",
     "iopub.status.idle": "2023-07-19T00:28:38.748635Z",
     "shell.execute_reply": "2023-07-19T00:28:38.747502Z"
    },
    "papermill": {
     "duration": 0.083841,
     "end_time": "2023-07-19T00:28:38.751797",
     "exception": false,
     "start_time": "2023-07-19T00:28:38.667956",
     "status": "completed"
    },
    "tags": []
   },
   "outputs": [
    {
     "data": {
      "text/plain": [
       "30820.674808052234"
      ]
     },
     "execution_count": 31,
     "metadata": {},
     "output_type": "execute_result"
    }
   ],
   "source": [
    "lin = LinearRegression()\n",
    "lin.fit(train_pre, train[target])\n",
    "np.sqrt(-cross_val_score(lin, train_pre, train[target], scoring='neg_mean_squared_error')).mean()"
   ]
  },
  {
   "cell_type": "code",
   "execution_count": 32,
   "id": "4ab69db4",
   "metadata": {
    "execution": {
     "iopub.execute_input": "2023-07-19T00:28:38.804833Z",
     "iopub.status.busy": "2023-07-19T00:28:38.804002Z",
     "iopub.status.idle": "2023-07-19T00:28:38.932403Z",
     "shell.execute_reply": "2023-07-19T00:28:38.931648Z"
    },
    "papermill": {
     "duration": 0.157277,
     "end_time": "2023-07-19T00:28:38.934564",
     "exception": false,
     "start_time": "2023-07-19T00:28:38.777287",
     "status": "completed"
    },
    "tags": []
   },
   "outputs": [
    {
     "data": {
      "text/plain": [
       "41917.948085592594"
      ]
     },
     "execution_count": 32,
     "metadata": {},
     "output_type": "execute_result"
    }
   ],
   "source": [
    "dtr = DecisionTreeRegressor(random_state=0)\n",
    "dtr.fit(train_pre, train[target])\n",
    "np.sqrt(-cross_val_score(dtr, train_pre, train[target], scoring='neg_mean_squared_error')).mean()"
   ]
  },
  {
   "cell_type": "code",
   "execution_count": 33,
   "id": "e7198fc9",
   "metadata": {
    "execution": {
     "iopub.execute_input": "2023-07-19T00:28:38.967169Z",
     "iopub.status.busy": "2023-07-19T00:28:38.966485Z",
     "iopub.status.idle": "2023-07-19T00:28:45.336565Z",
     "shell.execute_reply": "2023-07-19T00:28:45.335498Z"
    },
    "papermill": {
     "duration": 6.389258,
     "end_time": "2023-07-19T00:28:45.33903",
     "exception": false,
     "start_time": "2023-07-19T00:28:38.949772",
     "status": "completed"
    },
    "tags": []
   },
   "outputs": [
    {
     "data": {
      "text/plain": [
       "29276.45942896548"
      ]
     },
     "execution_count": 33,
     "metadata": {},
     "output_type": "execute_result"
    }
   ],
   "source": [
    "rfr = RandomForestRegressor(random_state=0)\n",
    "rfr.fit(train_pre, train[target])\n",
    "np.sqrt(-cross_val_score(rfr, train_pre, train[target], scoring='neg_mean_squared_error')).mean()"
   ]
  },
  {
   "cell_type": "code",
   "execution_count": 34,
   "id": "86726ff7",
   "metadata": {
    "execution": {
     "iopub.execute_input": "2023-07-19T00:28:45.371763Z",
     "iopub.status.busy": "2023-07-19T00:28:45.371373Z",
     "iopub.status.idle": "2023-07-19T00:28:45.375928Z",
     "shell.execute_reply": "2023-07-19T00:28:45.374888Z"
    },
    "papermill": {
     "duration": 0.02347,
     "end_time": "2023-07-19T00:28:45.377959",
     "exception": false,
     "start_time": "2023-07-19T00:28:45.354489",
     "status": "completed"
    },
    "tags": []
   },
   "outputs": [],
   "source": [
    "model_base = rfr"
   ]
  },
  {
   "cell_type": "markdown",
   "id": "16fc182d",
   "metadata": {
    "papermill": {
     "duration": 0.01493,
     "end_time": "2023-07-19T00:28:45.408342",
     "exception": false,
     "start_time": "2023-07-19T00:28:45.393412",
     "status": "completed"
    },
    "tags": []
   },
   "source": [
    "# Tune Model"
   ]
  },
  {
   "cell_type": "code",
   "execution_count": 35,
   "id": "899da2c4",
   "metadata": {
    "execution": {
     "iopub.execute_input": "2023-07-19T00:28:45.440385Z",
     "iopub.status.busy": "2023-07-19T00:28:45.440024Z",
     "iopub.status.idle": "2023-07-19T00:28:45.446607Z",
     "shell.execute_reply": "2023-07-19T00:28:45.445561Z"
    },
    "papermill": {
     "duration": 0.025096,
     "end_time": "2023-07-19T00:28:45.448597",
     "exception": false,
     "start_time": "2023-07-19T00:28:45.423501",
     "status": "completed"
    },
    "tags": []
   },
   "outputs": [
    {
     "data": {
      "text/plain": [
       "{'bootstrap': True,\n",
       " 'ccp_alpha': 0.0,\n",
       " 'criterion': 'squared_error',\n",
       " 'max_depth': None,\n",
       " 'max_features': 1.0,\n",
       " 'max_leaf_nodes': None,\n",
       " 'max_samples': None,\n",
       " 'min_impurity_decrease': 0.0,\n",
       " 'min_samples_leaf': 1,\n",
       " 'min_samples_split': 2,\n",
       " 'min_weight_fraction_leaf': 0.0,\n",
       " 'n_estimators': 100,\n",
       " 'n_jobs': None,\n",
       " 'oob_score': False,\n",
       " 'random_state': 0,\n",
       " 'verbose': 0,\n",
       " 'warm_start': False}"
      ]
     },
     "execution_count": 35,
     "metadata": {},
     "output_type": "execute_result"
    }
   ],
   "source": [
    "model_base.get_params()"
   ]
  },
  {
   "cell_type": "code",
   "execution_count": 36,
   "id": "c0576a2e",
   "metadata": {
    "execution": {
     "iopub.execute_input": "2023-07-19T00:28:45.482537Z",
     "iopub.status.busy": "2023-07-19T00:28:45.481307Z",
     "iopub.status.idle": "2023-07-19T00:29:27.468354Z",
     "shell.execute_reply": "2023-07-19T00:29:27.467569Z"
    },
    "papermill": {
     "duration": 42.021067,
     "end_time": "2023-07-19T00:29:27.485756",
     "exception": false,
     "start_time": "2023-07-19T00:28:45.464689",
     "status": "completed"
    },
    "tags": []
   },
   "outputs": [],
   "source": [
    "from sklearn.model_selection import GridSearchCV\n",
    "grd = GridSearchCV(model_base\n",
    "                         , param_grid={ 'random_state': [0]\n",
    "                                       , 'n_estimators': [100, 200, 300]\n",
    "                                       , 'max_features': [2, 4, 8, 10]\n",
    "                                      }\n",
    "                         , scoring='neg_mean_squared_error')\n",
    "# grd.fit(train_pre, train[target])\n",
    "# grd.best_params_"
   ]
  },
  {
   "cell_type": "code",
   "execution_count": 37,
   "id": "11183336",
   "metadata": {
    "execution": {
     "iopub.execute_input": "2023-07-19T00:29:27.518816Z",
     "iopub.status.busy": "2023-07-19T00:29:27.518384Z",
     "iopub.status.idle": "2023-07-19T00:29:29.062055Z",
     "shell.execute_reply": "2023-07-19T00:29:29.060974Z"
    },
    "papermill": {
     "duration": 1.563475,
     "end_time": "2023-07-19T00:29:29.06457",
     "exception": false,
     "start_time": "2023-07-19T00:29:27.501095",
     "status": "completed"
    },
    "tags": []
   },
   "outputs": [],
   "source": [
    "model_tune = RandomForestRegressor(\n",
    "    random_state=0\n",
    "    , n_estimators=300\n",
    "    , max_features=10\n",
    "#     , max_leaf_nodes=None\n",
    "#     , max_samples=None\n",
    ")\n",
    "model_tune.fit(train_pre, train[target]);"
   ]
  },
  {
   "cell_type": "markdown",
   "id": "59e1726b",
   "metadata": {
    "papermill": {
     "duration": 0.015225,
     "end_time": "2023-07-19T00:29:29.095267",
     "exception": false,
     "start_time": "2023-07-19T00:29:29.080042",
     "status": "completed"
    },
    "tags": []
   },
   "source": [
    "# Validation"
   ]
  },
  {
   "cell_type": "code",
   "execution_count": 38,
   "id": "51d61eca",
   "metadata": {
    "execution": {
     "iopub.execute_input": "2023-07-19T00:29:29.128048Z",
     "iopub.status.busy": "2023-07-19T00:29:29.127628Z",
     "iopub.status.idle": "2023-07-19T00:29:45.62089Z",
     "shell.execute_reply": "2023-07-19T00:29:45.619616Z"
    },
    "papermill": {
     "duration": 16.512269,
     "end_time": "2023-07-19T00:29:45.623041",
     "exception": false,
     "start_time": "2023-07-19T00:29:29.110772",
     "status": "completed"
    },
    "tags": []
   },
   "outputs": [
    {
     "name": "stdout",
     "output_type": "stream",
     "text": [
      "base 29276.45942896548 40865.70868404695\n",
      "tune 28639.19850946302 39775.13266367901\n"
     ]
    }
   ],
   "source": [
    "print('base',\n",
    "    np.sqrt(-cross_val_score(model_base, train_pre, train[target], scoring='neg_mean_squared_error')).mean(),\n",
    "    np.sqrt(-cross_val_score(model_base, test_pre, test[target], scoring='neg_mean_squared_error')).mean()\n",
    ")\n",
    "\n",
    "print('tune',\n",
    "    np.sqrt(-cross_val_score(model_tune, train_pre, train[target], scoring='neg_mean_squared_error')).mean(),\n",
    "    np.sqrt(-cross_val_score(model_tune, test_pre, test[target], scoring='neg_mean_squared_error')).mean()\n",
    ")"
   ]
  },
  {
   "cell_type": "markdown",
   "id": "44224812",
   "metadata": {
    "papermill": {
     "duration": 0.015537,
     "end_time": "2023-07-19T00:29:45.654815",
     "exception": false,
     "start_time": "2023-07-19T00:29:45.639278",
     "status": "completed"
    },
    "tags": []
   },
   "source": [
    "    ## Multiplying YearBuilt * YearRemodAdd\n",
    "    29305.91019299344 39817.936855094296\n",
    "    28593.345346409456 39726.29547575848\n",
    "    \n",
    "    ## Baseline\n",
    "    29701.66889770482 38888.041253125855\n",
    "    28576.013401852346 38899.51112575973"
   ]
  },
  {
   "cell_type": "markdown",
   "id": "b0be01a5",
   "metadata": {
    "papermill": {
     "duration": 0.015589,
     "end_time": "2023-07-19T00:29:45.686069",
     "exception": false,
     "start_time": "2023-07-19T00:29:45.67048",
     "status": "completed"
    },
    "tags": []
   },
   "source": [
    "# Submission"
   ]
  },
  {
   "cell_type": "code",
   "execution_count": 39,
   "id": "0bd3824f",
   "metadata": {
    "execution": {
     "iopub.execute_input": "2023-07-19T00:29:45.720435Z",
     "iopub.status.busy": "2023-07-19T00:29:45.720069Z",
     "iopub.status.idle": "2023-07-19T00:29:45.85581Z",
     "shell.execute_reply": "2023-07-19T00:29:45.854877Z"
    },
    "papermill": {
     "duration": 0.156576,
     "end_time": "2023-07-19T00:29:45.858304",
     "exception": false,
     "start_time": "2023-07-19T00:29:45.701728",
     "status": "completed"
    },
    "tags": []
   },
   "outputs": [],
   "source": [
    "samp = pd.read_csv('../input/house-prices-advanced-regression-techniques/test.csv')\n",
    "\n",
    "pd.DataFrame({\n",
    "    'Id': samp['Id']\n",
    "    , 'SalePrice': model_tune.predict(pipe.transform(samp))\n",
    "}).to_csv('submission.csv', index=False)"
   ]
  },
  {
   "cell_type": "code",
   "execution_count": null,
   "id": "c2fd2e36",
   "metadata": {},
   "outputs": [],
   "source": []
  }
 ],
 "metadata": {
  "kernelspec": {
   "display_name": "Python 3 (ipykernel)",
   "language": "python",
   "name": "python3"
  },
  "language_info": {
   "codemirror_mode": {
    "name": "ipython",
    "version": 3
   },
   "file_extension": ".py",
   "mimetype": "text/x-python",
   "name": "python",
   "nbconvert_exporter": "python",
   "pygments_lexer": "ipython3",
   "version": "3.10.11"
  },
  "papermill": {
   "default_parameters": {},
   "duration": 95.236487,
   "end_time": "2023-07-19T00:29:47.028316",
   "environment_variables": {},
   "exception": null,
   "input_path": "__notebook__.ipynb",
   "output_path": "__notebook__.ipynb",
   "parameters": {},
   "start_time": "2023-07-19T00:28:11.791829",
   "version": "2.4.0"
  }
 },
 "nbformat": 4,
 "nbformat_minor": 5
}
