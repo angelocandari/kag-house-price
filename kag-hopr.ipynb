{
 "cells": [
  {
   "cell_type": "code",
   "execution_count": null,
   "metadata": {},
   "outputs": [],
   "source": [
    "import pandas as pd\n",
    "import numpy as np\n",
    "import seaborn as sns\n",
    "import matplotlib.pyplot as plt\n",
    "import scipy.stats as st\n",
    "import statsmodels.api as sm\n",
    "pd.options.display.max_rows = 1000; pd.options.display.max_columns = 100;\n",
    "sns.set_style('whitegrid')\n",
    "import kaggle\n",
    "from zipfile import ZipFile"
   ]
  },
  {
   "cell_type": "markdown",
   "metadata": {},
   "source": [
    "Configure"
   ]
  },
  {
   "cell_type": "code",
   "execution_count": null,
   "metadata": {},
   "outputs": [],
   "source": [
    "train = pd.read_csv(ZipFile(\"house-prices-advanced-regression-techniques.zip\").open(\"train.csv\"))\n",
    "test = pd.read_csv(ZipFile(\"house-prices-advanced-regression-techniques.zip\").open(\"test.csv\"))"
   ]
  },
  {
   "cell_type": "markdown",
   "metadata": {},
   "source": [
    "Load data"
   ]
  },
  {
   "cell_type": "code",
   "execution_count": null,
   "metadata": {},
   "outputs": [],
   "source": [
    "train.head()"
   ]
  },
  {
   "cell_type": "markdown",
   "metadata": {},
   "source": [
    "Preview head"
   ]
  },
  {
   "cell_type": "code",
   "execution_count": null,
   "metadata": {},
   "outputs": [],
   "source": [
    "numeric = [f for f in train.columns if train.dtypes[f] != 'object']\n",
    "numeric.remove('SalePrice')\n",
    "numeric.remove('Id')\n",
    "categorical = [f for f in train.columns if train.dtypes[f] == 'object']"
   ]
  },
  {
   "cell_type": "markdown",
   "metadata": {},
   "source": [
    "Separate numeric, categorical and target from each other."
   ]
  },
  {
   "cell_type": "markdown",
   "metadata": {},
   "source": [
    "# Explore Data\n",
    "1460 ids in the training set. 81 variables in the dataset. 36 numeric variables (excluding Ids and Sale Price) and 43 categorical variables.\n",
    "\n",
    "Numeric: \n",
    "'MSSubClass', 'LotFrontage', 'LotArea', 'OverallQual',\n",
    "'OverallCond', 'YearBuilt', 'YearRemodAdd', 'MasVnrArea',\n",
    "'BsmtFinSF1', 'BsmtFinSF2', 'BsmtUnfSF', 'TotalBsmtSF', '1stFlrSF',\n",
    "'2ndFlrSF', 'LowQualFinSF', 'GrLivArea', 'BsmtFullBath',\n",
    "'BsmtHalfBath', 'FullBath', 'HalfBath', 'BedroomAbvGr',\n",
    "'KitchenAbvGr', 'TotRmsAbvGrd', 'Fireplaces', 'GarageYrBlt',\n",
    "'GarageCars', 'GarageArea', 'WoodDeckSF', 'OpenPorchSF',\n",
    "'EnclosedPorch', '3SsnPorch', 'ScreenPorch', 'PoolArea', 'MiscVal',\n",
    "'MoSold', 'YrSold'\n",
    "\n",
    "Categorical:\n",
    "'MSZoning', 'Street', 'Alley', 'LotShape', 'LandContour',\n",
    "'Utilities', 'LotConfig', 'LandSlope', 'Neighborhood',\n",
    "'Condition1', 'Condition2', 'BldgType', 'HouseStyle', 'RoofStyle',\n",
    "'RoofMatl', 'Exterior1st', 'Exterior2nd', 'MasVnrType',\n",
    "'ExterQual', 'ExterCond', 'Foundation', 'BsmtQual', 'BsmtCond',\n",
    "'BsmtExposure', 'BsmtFinType1', 'BsmtFinType2', 'Heating',\n",
    "'HeatingQC', 'CentralAir', 'Electrical', 'KitchenQual',\n",
    "'Functional', 'FireplaceQu', 'GarageType', 'GarageFinish',\n",
    "'GarageQual', 'GarageCond', 'PavedDrive', 'PoolQC', 'Fence',\n",
    "'MiscFeature', 'SaleType', 'SaleCondition'"
   ]
  },
  {
   "cell_type": "markdown",
   "metadata": {},
   "source": [
    "## Sale Price Variable\n",
    "Sale Price is what we want to predict. Mean is around 180k with a couple of outliers."
   ]
  },
  {
   "cell_type": "code",
   "execution_count": null,
   "metadata": {},
   "outputs": [],
   "source": [
    "y = train['SalePrice']\n",
    "y.hist(bins=100)\n",
    "plt.savefig('hopr-saleprice.svg')\n",
    "plt.close();"
   ]
  },
  {
   "cell_type": "markdown",
   "metadata": {},
   "source": [
    "![](hopr-saleprice-ant.svg1)\n",
    "See the shape of the target data."
   ]
  },
  {
   "cell_type": "code",
   "execution_count": null,
   "metadata": {
    "scrolled": true
   },
   "outputs": [],
   "source": [
    "y.describe()"
   ]
  },
  {
   "cell_type": "markdown",
   "metadata": {},
   "source": [
    "See a bit of a right skew due to some outliers. Will it affect ML accuracy if we keep them in, not sure..."
   ]
  },
  {
   "cell_type": "markdown",
   "metadata": {},
   "source": [
    "## Overall Quality\n",
    "SalePrice increases as OverallQual increase, we know this. Because we are working with averages, a feature with outliers that are really far from the rest of the points will skew the our algorithm."
   ]
  },
  {
   "cell_type": "code",
   "execution_count": null,
   "metadata": {},
   "outputs": [],
   "source": [
    "sns.boxplot(x=train['OverallQual'], y=train['SalePrice'], color='steelblue')\n",
    "plt.savefig('hopr-overallquality.svg')\n",
    "plt.close();"
   ]
  },
  {
   "cell_type": "markdown",
   "metadata": {},
   "source": [
    "![](overallquality.svg)\n",
    "In this dataset, we found some but aren't far enough or numerous enough to become a threat to our averages."
   ]
  },
  {
   "cell_type": "markdown",
   "metadata": {},
   "source": [
    "## GrLivArea\n",
    "GrLivArea is \"Above Grade Living Area\". There are many ways to measure a house but the most frequently measurement is to measure the area that is on the ground level. In the dataset, it has a strong relationship with SalePrice."
   ]
  },
  {
   "cell_type": "code",
   "execution_count": null,
   "metadata": {
    "scrolled": false
   },
   "outputs": [],
   "source": [
    "sns.regplot(x=train['GrLivArea'], y=train['SalePrice'], ci=None\n",
    "            , scatter_kws={'alpha':0.5}\n",
    "            , line_kws={\"color\": \"orange\"})\n",
    "\n",
    "plt.savefig('hopr-saleprice-grlivarea.svg')\n",
    "plt.close();"
   ]
  },
  {
   "cell_type": "markdown",
   "metadata": {},
   "source": [
    "![](hopr-saleprice-grlivarea-ant.svg1)\n",
    "The larger the house, the more you pay. Most of the houses follows this idea except for 2 houses priced at 523 and 1298."
   ]
  },
  {
   "cell_type": "markdown",
   "metadata": {},
   "source": [
    "## Correlation\n",
    "Now we look at what features is more correlated with SalePrice."
   ]
  },
  {
   "cell_type": "code",
   "execution_count": null,
   "metadata": {
    "scrolled": true
   },
   "outputs": [],
   "source": [
    "g = (train[numeric].corrwith(train['SalePrice']).sort_values(ascending=False)\n",
    "     .reset_index()).head(15)\n",
    "g.columns = ['Features', 'Correlation']\n",
    "g.style.bar(vmax=1, vmin=0)"
   ]
  },
  {
   "cell_type": "markdown",
   "metadata": {},
   "source": [
    "Overall Quality seems to be the most correlated matric to Sales Price."
   ]
  },
  {
   "cell_type": "code",
   "execution_count": null,
   "metadata": {},
   "outputs": [],
   "source": [
    "matrix = train[['SalePrice'] + list(g['Features'])[:15]].corr()\n",
    "np.fill_diagonal(matrix.values, 0)\n",
    "sns.heatmap(matrix, linewidths=.01, linecolor='lightgrey', annot=True, cmap='Blues', vmin=.4, cbar=False);\n",
    "plt.savefig('hopr-matrix.svg')\n",
    "plt.close();"
   ]
  },
  {
   "cell_type": "markdown",
   "metadata": {},
   "source": [
    "![](hopr-matrix-annot.svg1)"
   ]
  },
  {
   "cell_type": "markdown",
   "metadata": {},
   "source": [
    "Calculated correlation with the rest of the features. \n",
    "- GarageCars and GarageArea has a high correlation with each other.\n",
    "- There are others, which I will keep in mind when I decide to combine them to create new combined features."
   ]
  },
  {
   "cell_type": "markdown",
   "metadata": {},
   "source": [
    "# Cleaning Area"
   ]
  },
  {
   "cell_type": "code",
   "execution_count": null,
   "metadata": {},
   "outputs": [],
   "source": [
    "cat_num = ['ExterQual', 'ExterCond', 'BsmtQual', 'BsmtCond', 'HeatingQC', 'KitchenQual', 'FireplaceQu', 'GarageQual']\n",
    "for c in cat_num:\n",
    "    train[c] = train[c].replace({ 'Ex':5 , 'Gd':4 , 'TA':3, 'Fa':2, 'Po':1, 'NULL': 0})\n"
   ]
  },
  {
   "cell_type": "markdown",
   "metadata": {},
   "source": [
    "## Missing Data"
   ]
  },
  {
   "cell_type": "code",
   "execution_count": null,
   "metadata": {},
   "outputs": [],
   "source": [
    "missing = train.isnull().sum()\n",
    "missing = missing[missing>0]\n",
    "missing_tally = pd.DataFrame({\n",
    "    'count': missing,\n",
    "    'proportion': missing / len(train) * 100\n",
    "})\n",
    "missing_tally.sort_values(by='proportion', ascending=False).style.bar(vmax=100)"
   ]
  },
  {
   "cell_type": "markdown",
   "metadata": {},
   "source": [
    "19 columns that have missing data. Missing data could be used here as a way to say that the house does not have this feature. Here are all of them"
   ]
  },
  {
   "cell_type": "markdown",
   "metadata": {},
   "source": [
    "## Batch Exploring Features\n"
   ]
  },
  {
   "cell_type": "code",
   "execution_count": null,
   "metadata": {
    "scrolled": true
   },
   "outputs": [],
   "source": [
    "for c in categorical:\n",
    "    train[c] = train[c].fillna('NULL')\n",
    "\n",
    "def boxplot(x, y, **kwargs):\n",
    "    sns.boxplot(x=x, y=y)\n",
    "    x=plt.xticks(rotation=90)\n",
    "    \n",
    "f = pd.melt(train, id_vars=['SalePrice'], value_vars=categorical)\n",
    "g = sns.FacetGrid(f, col=\"variable\",  col_wrap=2, sharex=False, sharey=False, height=4)\n",
    "g = g.map(boxplot, \"value\", \"SalePrice\")"
   ]
  },
  {
   "cell_type": "markdown",
   "metadata": {},
   "source": [
    "- **Neighborhood Split Class**. CollgCr seems to be average. OldTown and Edwards are commonly cheap. NridgHt, NoRidge and StonBr are at the higher end.\n",
    "- **Poor-Excellent Quality**. Some categories can be turned into numeric values.\n",
    "- **SaleCondition and SaleType**. Partial SalesCondition and New SaleType seems to be both at higher value.\n"
   ]
  },
  {
   "cell_type": "code",
   "execution_count": null,
   "metadata": {},
   "outputs": [],
   "source": [
    "train['BsmtCond'].value_counts()"
   ]
  },
  {
   "cell_type": "markdown",
   "metadata": {},
   "source": [
    "# Machine Learning"
   ]
  }
 ],
 "metadata": {
  "kernelspec": {
   "display_name": "Python 3",
   "language": "python",
   "name": "python3"
  },
  "language_info": {
   "codemirror_mode": {
    "name": "ipython",
    "version": 3
   },
   "file_extension": ".py",
   "mimetype": "text/x-python",
   "name": "python",
   "nbconvert_exporter": "python",
   "pygments_lexer": "ipython3",
   "version": "3.7.10"
  }
 },
 "nbformat": 4,
 "nbformat_minor": 4
}
